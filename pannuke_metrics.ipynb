{
 "cells": [
  {
   "attachments": {},
   "cell_type": "markdown",
   "metadata": {},
   "source": [
    "# Average 3 Fold predictions"
   ]
  },
  {
   "cell_type": "code",
   "execution_count": 110,
   "metadata": {},
   "outputs": [],
   "source": [
    "import json\n",
    "import numpy as np\n",
    "from pathlib import Path\n",
    "import pandas as pd\n",
    "\n",
    "# fold_paths = [\n",
    "#     \"/homes/fhoerst/histo-projects/CellViT/results/PanNuke/Revision/CellViT/Common-Loss/SAM-H/Best-Setting/2023-09-09T233134_CellViT-SAM-H-Fold-1\",\n",
    "#     \"/homes/fhoerst/histo-projects/CellViT/results/PanNuke/Revision/CellViT/Common-Loss/SAM-H/Best-Setting/2023-09-10T014745_CellViT-SAM-H-Fold-2\",\n",
    "#     \"/homes/fhoerst/histo-projects/CellViT/results/PanNuke/Revision/CellViT/Common-Loss/SAM-H/Best-Setting/2023-09-10T042813_CellViT-SAM-H-Fold-3\"\n",
    "# ]\n",
    "\n",
    "fold_paths = [\n",
    "    \"/homes/fhoerst/histo-projects/CellViT/results/PanNuke/Revision/CellViTStarDist/Common-Loss/SAM-H/Unshared-decoder/Our-Setting/2023-09-15T151110_CellViTSAMStarDist-H-Unshared-Fold-1\",\n",
    "    \"/homes/fhoerst/histo-projects/CellViT/results/PanNuke/Revision/CellViTStarDist/Common-Loss/SAM-H/Unshared-decoder/Our-Setting/2023-09-18T065152_CellViTSAMStarDist-H-Unshared-Fold-2\",\n",
    "    \"/homes/fhoerst/histo-projects/CellViT/results/PanNuke/Revision/CellViTStarDist/Common-Loss/SAM-H/Unshared-decoder/Our-Setting/2023-09-18T065522_CellViTSAMStarDist-H-Unshared-Fold-3\"\n",
    "]"
   ]
  },
  {
   "cell_type": "code",
   "execution_count": 111,
   "metadata": {},
   "outputs": [],
   "source": [
    "detection_results = []\n",
    "cell_pq_results = []\n",
    "tissue_metrics = []\n",
    "global_f1 = []\n",
    "global_prec = []\n",
    "global_rec = []\n",
    "\n",
    "\n",
    "for fold, fold_path in enumerate(fold_paths):\n",
    "    json_path = Path(fold_path) / \"inference_results.json\"\n",
    "    \n",
    "    with open(json_path, 'r') as file:\n",
    "        data = json.load(file)\n",
    "    detection_results.append(pd.DataFrame.from_dict(data[\"nuclei_metrics_d\"]))\n",
    "    cell_pq_results.append(pd.DataFrame(data[\"nuclei_metrics_pq\"], index=[0]))\n",
    "    tissue_metrics.append(pd.DataFrame.from_dict(data[\"tissue_metrics\"]))\n",
    "    global_f1.append(float(data[\"dataset\"][\"f1_detection\"]))\n",
    "    global_prec.append(data[\"dataset\"][\"precision_detection\"])\n",
    "    global_rec.append(data[\"dataset\"][\"recall_detection\"])\n",
    "\n",
    "    \n",
    "detection_avg = pd.concat([each.stack() for each in detection_results],axis=1)\\\n",
    "             .apply(lambda x:x.mean(),axis=1)\\\n",
    "             .unstack()\n",
    "cell_pq_avg = pd.concat([each.stack() for each in cell_pq_results],axis=1)\\\n",
    "             .apply(lambda x:x.mean(),axis=1)\\\n",
    "             .unstack()           \n",
    "tissue_metrics_avg = pd.concat([each.stack() for each in tissue_metrics],axis=1)\\\n",
    "             .apply(lambda x:x.mean(),axis=1)\\\n",
    "             .unstack()\n",
    "             \n",
    "global_f1 = np.mean(global_f1)\n",
    "global_prec = np.mean(global_prec)\n",
    "global_rec = np.mean(global_rec)"
   ]
  },
  {
   "attachments": {},
   "cell_type": "markdown",
   "metadata": {},
   "source": [
    "### Detection-Scores"
   ]
  },
  {
   "cell_type": "code",
   "execution_count": 112,
   "metadata": {},
   "outputs": [
    {
     "data": {
      "text/html": [
       "<div>\n",
       "<style scoped>\n",
       "    .dataframe tbody tr th:only-of-type {\n",
       "        vertical-align: middle;\n",
       "    }\n",
       "\n",
       "    .dataframe tbody tr th {\n",
       "        vertical-align: top;\n",
       "    }\n",
       "\n",
       "    .dataframe thead th {\n",
       "        text-align: right;\n",
       "    }\n",
       "</style>\n",
       "<table border=\"1\" class=\"dataframe\">\n",
       "  <thead>\n",
       "    <tr style=\"text-align: right;\">\n",
       "      <th></th>\n",
       "      <th>f1_cell</th>\n",
       "      <th>prec_cell</th>\n",
       "      <th>rec_cell</th>\n",
       "    </tr>\n",
       "  </thead>\n",
       "  <tbody>\n",
       "    <tr>\n",
       "      <th>Neoplastic</th>\n",
       "      <td>0.701863</td>\n",
       "      <td>0.722160</td>\n",
       "      <td>0.682690</td>\n",
       "    </tr>\n",
       "    <tr>\n",
       "      <th>Inflammatory</th>\n",
       "      <td>0.584258</td>\n",
       "      <td>0.595634</td>\n",
       "      <td>0.573612</td>\n",
       "    </tr>\n",
       "    <tr>\n",
       "      <th>Connective</th>\n",
       "      <td>0.519655</td>\n",
       "      <td>0.534876</td>\n",
       "      <td>0.505431</td>\n",
       "    </tr>\n",
       "    <tr>\n",
       "      <th>Dead</th>\n",
       "      <td>0.384843</td>\n",
       "      <td>0.443671</td>\n",
       "      <td>0.340534</td>\n",
       "    </tr>\n",
       "    <tr>\n",
       "      <th>Epithelial</th>\n",
       "      <td>0.723682</td>\n",
       "      <td>0.736731</td>\n",
       "      <td>0.711335</td>\n",
       "    </tr>\n",
       "  </tbody>\n",
       "</table>\n",
       "</div>"
      ],
      "text/plain": [
       "               f1_cell  prec_cell  rec_cell\n",
       "Neoplastic    0.701863   0.722160  0.682690\n",
       "Inflammatory  0.584258   0.595634  0.573612\n",
       "Connective    0.519655   0.534876  0.505431\n",
       "Dead          0.384843   0.443671  0.340534\n",
       "Epithelial    0.723682   0.736731  0.711335"
      ]
     },
     "execution_count": 112,
     "metadata": {},
     "output_type": "execute_result"
    }
   ],
   "source": [
    "detection_avg.T"
   ]
  },
  {
   "cell_type": "code",
   "execution_count": 113,
   "metadata": {},
   "outputs": [
    {
     "name": "stdout",
     "output_type": "stream",
     "text": [
      "f1: 0.8182216537115305\n",
      "prec: 0.8425907302775381\n",
      "rec: 0.7952431762813573\n"
     ]
    }
   ],
   "source": [
    "print(f\"f1: {global_f1}\")\n",
    "print(f\"prec: {global_prec}\")\n",
    "print(f\"rec: {global_rec}\")"
   ]
  },
  {
   "attachments": {},
   "cell_type": "markdown",
   "metadata": {},
   "source": [
    "### Cell-Type-PQ-Scores"
   ]
  },
  {
   "cell_type": "code",
   "execution_count": 109,
   "metadata": {},
   "outputs": [
    {
     "data": {
      "text/html": [
       "<div>\n",
       "<style scoped>\n",
       "    .dataframe tbody tr th:only-of-type {\n",
       "        vertical-align: middle;\n",
       "    }\n",
       "\n",
       "    .dataframe tbody tr th {\n",
       "        vertical-align: top;\n",
       "    }\n",
       "\n",
       "    .dataframe thead th {\n",
       "        text-align: right;\n",
       "    }\n",
       "</style>\n",
       "<table border=\"1\" class=\"dataframe\">\n",
       "  <thead>\n",
       "    <tr style=\"text-align: right;\">\n",
       "      <th></th>\n",
       "      <th>Neoplastic</th>\n",
       "      <th>Inflammatory</th>\n",
       "      <th>Connective</th>\n",
       "      <th>Dead</th>\n",
       "      <th>Epithelial</th>\n",
       "    </tr>\n",
       "  </thead>\n",
       "  <tbody>\n",
       "    <tr>\n",
       "      <th>0</th>\n",
       "      <td>0.508306</td>\n",
       "      <td>0.374857</td>\n",
       "      <td>0.283907</td>\n",
       "      <td>0.095283</td>\n",
       "      <td>0.469167</td>\n",
       "    </tr>\n",
       "  </tbody>\n",
       "</table>\n",
       "</div>"
      ],
      "text/plain": [
       "   Neoplastic  Inflammatory  Connective      Dead  Epithelial\n",
       "0    0.508306      0.374857    0.283907  0.095283    0.469167"
      ]
     },
     "execution_count": 109,
     "metadata": {},
     "output_type": "execute_result"
    }
   ],
   "source": [
    "cell_pq_avg"
   ]
  },
  {
   "attachments": {},
   "cell_type": "markdown",
   "metadata": {},
   "source": [
    "### Tissue-Type-PQ-Scores"
   ]
  },
  {
   "cell_type": "code",
   "execution_count": 26,
   "metadata": {},
   "outputs": [
    {
     "data": {
      "text/html": [
       "<div>\n",
       "<style scoped>\n",
       "    .dataframe tbody tr th:only-of-type {\n",
       "        vertical-align: middle;\n",
       "    }\n",
       "\n",
       "    .dataframe tbody tr th {\n",
       "        vertical-align: top;\n",
       "    }\n",
       "\n",
       "    .dataframe thead th {\n",
       "        text-align: right;\n",
       "    }\n",
       "</style>\n",
       "<table border=\"1\" class=\"dataframe\">\n",
       "  <thead>\n",
       "    <tr style=\"text-align: right;\">\n",
       "      <th></th>\n",
       "      <th>Dice</th>\n",
       "      <th>Jaccard</th>\n",
       "      <th>mPQ</th>\n",
       "      <th>bPQ</th>\n",
       "    </tr>\n",
       "  </thead>\n",
       "  <tbody>\n",
       "    <tr>\n",
       "      <th>adrenal_gland</th>\n",
       "      <td>0.852938</td>\n",
       "      <td>0.759609</td>\n",
       "      <td>0.495020</td>\n",
       "      <td>0.697319</td>\n",
       "    </tr>\n",
       "    <tr>\n",
       "      <th>bile-duct</th>\n",
       "      <td>0.798428</td>\n",
       "      <td>0.741551</td>\n",
       "      <td>0.472102</td>\n",
       "      <td>0.630390</td>\n",
       "    </tr>\n",
       "    <tr>\n",
       "      <th>bladder</th>\n",
       "      <td>0.804538</td>\n",
       "      <td>0.759970</td>\n",
       "      <td>0.575600</td>\n",
       "      <td>0.654418</td>\n",
       "    </tr>\n",
       "    <tr>\n",
       "      <th>breast</th>\n",
       "      <td>0.835017</td>\n",
       "      <td>0.736184</td>\n",
       "      <td>0.508851</td>\n",
       "      <td>0.655268</td>\n",
       "    </tr>\n",
       "    <tr>\n",
       "      <th>cervix</th>\n",
       "      <td>0.736887</td>\n",
       "      <td>0.737079</td>\n",
       "      <td>0.489327</td>\n",
       "      <td>0.592687</td>\n",
       "    </tr>\n",
       "    <tr>\n",
       "      <th>colon</th>\n",
       "      <td>0.725100</td>\n",
       "      <td>0.679941</td>\n",
       "      <td>0.424513</td>\n",
       "      <td>0.513301</td>\n",
       "    </tr>\n",
       "    <tr>\n",
       "      <th>esophagus</th>\n",
       "      <td>0.847420</td>\n",
       "      <td>0.751006</td>\n",
       "      <td>0.537335</td>\n",
       "      <td>0.658277</td>\n",
       "    </tr>\n",
       "    <tr>\n",
       "      <th>headneck</th>\n",
       "      <td>0.692956</td>\n",
       "      <td>0.673157</td>\n",
       "      <td>0.490089</td>\n",
       "      <td>0.549478</td>\n",
       "    </tr>\n",
       "    <tr>\n",
       "      <th>kidney</th>\n",
       "      <td>0.803840</td>\n",
       "      <td>0.742512</td>\n",
       "      <td>0.540934</td>\n",
       "      <td>0.652299</td>\n",
       "    </tr>\n",
       "    <tr>\n",
       "      <th>liver</th>\n",
       "      <td>0.868471</td>\n",
       "      <td>0.776027</td>\n",
       "      <td>0.506541</td>\n",
       "      <td>0.712221</td>\n",
       "    </tr>\n",
       "    <tr>\n",
       "      <th>lung</th>\n",
       "      <td>0.821104</td>\n",
       "      <td>0.720006</td>\n",
       "      <td>0.410247</td>\n",
       "      <td>0.620344</td>\n",
       "    </tr>\n",
       "    <tr>\n",
       "      <th>ovarian</th>\n",
       "      <td>0.855019</td>\n",
       "      <td>0.752655</td>\n",
       "      <td>0.526032</td>\n",
       "      <td>0.659141</td>\n",
       "    </tr>\n",
       "    <tr>\n",
       "      <th>pancreatic</th>\n",
       "      <td>0.855243</td>\n",
       "      <td>0.751605</td>\n",
       "      <td>0.476893</td>\n",
       "      <td>0.663688</td>\n",
       "    </tr>\n",
       "    <tr>\n",
       "      <th>prostate</th>\n",
       "      <td>0.818235</td>\n",
       "      <td>0.731212</td>\n",
       "      <td>0.516369</td>\n",
       "      <td>0.649780</td>\n",
       "    </tr>\n",
       "    <tr>\n",
       "      <th>skin</th>\n",
       "      <td>0.793603</td>\n",
       "      <td>0.696618</td>\n",
       "      <td>0.366116</td>\n",
       "      <td>0.624054</td>\n",
       "    </tr>\n",
       "    <tr>\n",
       "      <th>stomach</th>\n",
       "      <td>0.872987</td>\n",
       "      <td>0.777623</td>\n",
       "      <td>0.447464</td>\n",
       "      <td>0.691297</td>\n",
       "    </tr>\n",
       "    <tr>\n",
       "      <th>testis</th>\n",
       "      <td>0.831176</td>\n",
       "      <td>0.754692</td>\n",
       "      <td>0.509122</td>\n",
       "      <td>0.668585</td>\n",
       "    </tr>\n",
       "    <tr>\n",
       "      <th>thyroid</th>\n",
       "      <td>0.838191</td>\n",
       "      <td>0.760164</td>\n",
       "      <td>0.441173</td>\n",
       "      <td>0.687128</td>\n",
       "    </tr>\n",
       "    <tr>\n",
       "      <th>uterus</th>\n",
       "      <td>0.842032</td>\n",
       "      <td>0.734402</td>\n",
       "      <td>0.473615</td>\n",
       "      <td>0.651028</td>\n",
       "    </tr>\n",
       "  </tbody>\n",
       "</table>\n",
       "</div>"
      ],
      "text/plain": [
       "                   Dice   Jaccard       mPQ       bPQ\n",
       "adrenal_gland  0.852938  0.759609  0.495020  0.697319\n",
       "bile-duct      0.798428  0.741551  0.472102  0.630390\n",
       "bladder        0.804538  0.759970  0.575600  0.654418\n",
       "breast         0.835017  0.736184  0.508851  0.655268\n",
       "cervix         0.736887  0.737079  0.489327  0.592687\n",
       "colon          0.725100  0.679941  0.424513  0.513301\n",
       "esophagus      0.847420  0.751006  0.537335  0.658277\n",
       "headneck       0.692956  0.673157  0.490089  0.549478\n",
       "kidney         0.803840  0.742512  0.540934  0.652299\n",
       "liver          0.868471  0.776027  0.506541  0.712221\n",
       "lung           0.821104  0.720006  0.410247  0.620344\n",
       "ovarian        0.855019  0.752655  0.526032  0.659141\n",
       "pancreatic     0.855243  0.751605  0.476893  0.663688\n",
       "prostate       0.818235  0.731212  0.516369  0.649780\n",
       "skin           0.793603  0.696618  0.366116  0.624054\n",
       "stomach        0.872987  0.777623  0.447464  0.691297\n",
       "testis         0.831176  0.754692  0.509122  0.668585\n",
       "thyroid        0.838191  0.760164  0.441173  0.687128\n",
       "uterus         0.842032  0.734402  0.473615  0.651028"
      ]
     },
     "execution_count": 26,
     "metadata": {},
     "output_type": "execute_result"
    }
   ],
   "source": [
    "tissue_metrics_avg.T"
   ]
  },
  {
   "cell_type": "code",
   "execution_count": 24,
   "metadata": {},
   "outputs": [
    {
     "data": {
      "text/plain": [
       "Dice       0.815431\n",
       "Jaccard    0.738738\n",
       "mPQ        0.484597\n",
       "bPQ        0.643721\n",
       "dtype: float64"
      ]
     },
     "execution_count": 24,
     "metadata": {},
     "output_type": "execute_result"
    }
   ],
   "source": [
    "row_mean = tissue_metrics_avg.mean(axis=1)\n",
    "row_mean"
   ]
  },
  {
   "cell_type": "code",
   "execution_count": 25,
   "metadata": {},
   "outputs": [
    {
     "data": {
      "text/plain": [
       "Dice       0.049415\n",
       "Jaccard    0.028870\n",
       "mPQ        0.050317\n",
       "bPQ        0.048988\n",
       "dtype: float64"
      ]
     },
     "execution_count": 25,
     "metadata": {},
     "output_type": "execute_result"
    }
   ],
   "source": [
    "row_mean = tissue_metrics_avg.std(axis=1)\n",
    "row_mean"
   ]
  },
  {
   "cell_type": "code",
   "execution_count": null,
   "metadata": {},
   "outputs": [],
   "source": []
  }
 ],
 "metadata": {
  "kernelspec": {
   "display_name": "cellvit_env",
   "language": "python",
   "name": "python3"
  },
  "language_info": {
   "codemirror_mode": {
    "name": "ipython",
    "version": 3
   },
   "file_extension": ".py",
   "mimetype": "text/x-python",
   "name": "python",
   "nbconvert_exporter": "python",
   "pygments_lexer": "ipython3",
   "version": "3.9.7"
  },
  "orig_nbformat": 4
 },
 "nbformat": 4,
 "nbformat_minor": 2
}
