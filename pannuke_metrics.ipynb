{
 "cells": [
  {
   "attachments": {},
   "cell_type": "markdown",
   "metadata": {},
   "source": [
    "# Average 3 Fold predictions"
   ]
  },
  {
   "cell_type": "code",
   "execution_count": 80,
   "metadata": {},
   "outputs": [],
   "source": [
    "import json\n",
    "import numpy as np\n",
    "from pathlib import Path\n",
    "import pandas as pd\n",
    "\n",
    "fold_paths = [\n",
    "    \"/homes/fhoerst/histo-projects/CellViT/results/PanNuke/Revision/CellViTCPP/SAM-H/CPP-Net-Setting/Fold-1-LR\",\n",
    "    \"/homes/fhoerst/histo-projects/CellViT/results/PanNuke/Revision/CellViTCPP/SAM-H/CPP-Net-Setting/Fold-2-LR\",\n",
    "    \"/homes/fhoerst/histo-projects/CellViT/results/PanNuke/Revision/CellViTCPP/SAM-H/CPP-Net-Setting/Fold-3-LR\"\n",
    "]"
   ]
  },
  {
   "cell_type": "code",
   "execution_count": 81,
   "metadata": {},
   "outputs": [],
   "source": [
    "detection_results = []\n",
    "cell_pq_results = []\n",
    "tissue_metrics = []\n",
    "global_f1 = []\n",
    "global_prec = []\n",
    "global_rec = []\n",
    "\n",
    "\n",
    "for fold, fold_path in enumerate(fold_paths):\n",
    "    json_path = Path(fold_path) / \"inference_results.json\"\n",
    "    \n",
    "    with open(json_path, 'r') as file:\n",
    "        data = json.load(file)\n",
    "    detection_results.append(pd.DataFrame.from_dict(data[\"nuclei_metrics_d\"]))\n",
    "    cell_pq_results.append(pd.DataFrame(data[\"nuclei_metrics_pq\"], index=[0]))\n",
    "    tissue_metrics.append(pd.DataFrame.from_dict(data[\"tissue_metrics\"]))\n",
    "    global_f1.append(float(data[\"dataset\"][\"f1_detection\"]))\n",
    "    global_prec.append(data[\"dataset\"][\"precision_detection\"])\n",
    "    global_rec.append(data[\"dataset\"][\"recall_detection\"])\n",
    "\n",
    "detection_avg = pd.concat([each.stack() for each in detection_results],axis=1)\\\n",
    "             .apply(lambda x:x.mean(),axis=1)\\\n",
    "             .unstack()\n",
    "cell_pq_avg = pd.concat([each.stack() for each in cell_pq_results],axis=1)\\\n",
    "             .apply(lambda x:x.mean(),axis=1)\\\n",
    "             .unstack()           \n",
    "tissue_metrics_avg = pd.concat([each.stack() for each in tissue_metrics],axis=1)\\\n",
    "             .apply(lambda x:x.mean(),axis=1)\\\n",
    "             .unstack()\n",
    "             \n",
    "global_f1 = np.mean(global_f1)\n",
    "global_prec = np.mean(global_prec)\n",
    "global_rec = np.mean(global_rec)"
   ]
  },
  {
   "attachments": {},
   "cell_type": "markdown",
   "metadata": {},
   "source": [
    "### Detection-Scores"
   ]
  },
  {
   "cell_type": "code",
   "execution_count": 82,
   "metadata": {},
   "outputs": [
    {
     "data": {
      "text/html": [
       "<div>\n",
       "<style scoped>\n",
       "    .dataframe tbody tr th:only-of-type {\n",
       "        vertical-align: middle;\n",
       "    }\n",
       "\n",
       "    .dataframe tbody tr th {\n",
       "        vertical-align: top;\n",
       "    }\n",
       "\n",
       "    .dataframe thead th {\n",
       "        text-align: right;\n",
       "    }\n",
       "</style>\n",
       "<table border=\"1\" class=\"dataframe\">\n",
       "  <thead>\n",
       "    <tr style=\"text-align: right;\">\n",
       "      <th></th>\n",
       "      <th>f1_cell</th>\n",
       "      <th>prec_cell</th>\n",
       "      <th>rec_cell</th>\n",
       "    </tr>\n",
       "  </thead>\n",
       "  <tbody>\n",
       "    <tr>\n",
       "      <th>Neoplastic</th>\n",
       "      <td>0.695703</td>\n",
       "      <td>0.723855</td>\n",
       "      <td>0.670290</td>\n",
       "    </tr>\n",
       "    <tr>\n",
       "      <th>Inflammatory</th>\n",
       "      <td>0.582357</td>\n",
       "      <td>0.615900</td>\n",
       "      <td>0.552282</td>\n",
       "    </tr>\n",
       "    <tr>\n",
       "      <th>Connective</th>\n",
       "      <td>0.524128</td>\n",
       "      <td>0.547554</td>\n",
       "      <td>0.502704</td>\n",
       "    </tr>\n",
       "    <tr>\n",
       "      <th>Dead</th>\n",
       "      <td>0.175197</td>\n",
       "      <td>0.268581</td>\n",
       "      <td>0.140462</td>\n",
       "    </tr>\n",
       "    <tr>\n",
       "      <th>Epithelial</th>\n",
       "      <td>0.704357</td>\n",
       "      <td>0.733527</td>\n",
       "      <td>0.678224</td>\n",
       "    </tr>\n",
       "  </tbody>\n",
       "</table>\n",
       "</div>"
      ],
      "text/plain": [
       "               f1_cell  prec_cell  rec_cell\n",
       "Neoplastic    0.695703   0.723855  0.670290\n",
       "Inflammatory  0.582357   0.615900  0.552282\n",
       "Connective    0.524128   0.547554  0.502704\n",
       "Dead          0.175197   0.268581  0.140462\n",
       "Epithelial    0.704357   0.733527  0.678224"
      ]
     },
     "execution_count": 82,
     "metadata": {},
     "output_type": "execute_result"
    }
   ],
   "source": [
    "detection_avg.T"
   ]
  },
  {
   "cell_type": "code",
   "execution_count": 83,
   "metadata": {},
   "outputs": [
    {
     "name": "stdout",
     "output_type": "stream",
     "text": [
      "f1: 0.8179755839642903\n",
      "prec: 0.8626492133067755\n",
      "rec: 0.7777569126384346\n"
     ]
    }
   ],
   "source": [
    "print(f\"f1: {global_f1}\")\n",
    "print(f\"prec: {global_prec}\")\n",
    "print(f\"rec: {global_rec}\")"
   ]
  },
  {
   "attachments": {},
   "cell_type": "markdown",
   "metadata": {},
   "source": [
    "### Cell-Type-PQ-Scores"
   ]
  },
  {
   "cell_type": "code",
   "execution_count": 84,
   "metadata": {},
   "outputs": [
    {
     "data": {
      "text/html": [
       "<div>\n",
       "<style scoped>\n",
       "    .dataframe tbody tr th:only-of-type {\n",
       "        vertical-align: middle;\n",
       "    }\n",
       "\n",
       "    .dataframe tbody tr th {\n",
       "        vertical-align: top;\n",
       "    }\n",
       "\n",
       "    .dataframe thead th {\n",
       "        text-align: right;\n",
       "    }\n",
       "</style>\n",
       "<table border=\"1\" class=\"dataframe\">\n",
       "  <thead>\n",
       "    <tr style=\"text-align: right;\">\n",
       "      <th></th>\n",
       "      <th>Neoplastic</th>\n",
       "      <th>Inflammatory</th>\n",
       "      <th>Connective</th>\n",
       "      <th>Dead</th>\n",
       "      <th>Epithelial</th>\n",
       "    </tr>\n",
       "  </thead>\n",
       "  <tbody>\n",
       "    <tr>\n",
       "      <th>0</th>\n",
       "      <td>0.565854</td>\n",
       "      <td>0.393275</td>\n",
       "      <td>0.389609</td>\n",
       "      <td>0.069133</td>\n",
       "      <td>0.547857</td>\n",
       "    </tr>\n",
       "  </tbody>\n",
       "</table>\n",
       "</div>"
      ],
      "text/plain": [
       "   Neoplastic  Inflammatory  Connective      Dead  Epithelial\n",
       "0    0.565854      0.393275    0.389609  0.069133    0.547857"
      ]
     },
     "execution_count": 84,
     "metadata": {},
     "output_type": "execute_result"
    }
   ],
   "source": [
    "cell_pq_avg"
   ]
  },
  {
   "attachments": {},
   "cell_type": "markdown",
   "metadata": {},
   "source": [
    "### Tissue-Type-PQ-Scores"
   ]
  },
  {
   "cell_type": "code",
   "execution_count": 85,
   "metadata": {},
   "outputs": [
    {
     "data": {
      "text/html": [
       "<div>\n",
       "<style scoped>\n",
       "    .dataframe tbody tr th:only-of-type {\n",
       "        vertical-align: middle;\n",
       "    }\n",
       "\n",
       "    .dataframe tbody tr th {\n",
       "        vertical-align: top;\n",
       "    }\n",
       "\n",
       "    .dataframe thead th {\n",
       "        text-align: right;\n",
       "    }\n",
       "</style>\n",
       "<table border=\"1\" class=\"dataframe\">\n",
       "  <thead>\n",
       "    <tr style=\"text-align: right;\">\n",
       "      <th></th>\n",
       "      <th>Dice</th>\n",
       "      <th>Jaccard</th>\n",
       "      <th>mPQ</th>\n",
       "      <th>bPQ</th>\n",
       "    </tr>\n",
       "  </thead>\n",
       "  <tbody>\n",
       "    <tr>\n",
       "      <th>adrenal_gland</th>\n",
       "      <td>0.829459</td>\n",
       "      <td>0.726831</td>\n",
       "      <td>0.481371</td>\n",
       "      <td>0.687048</td>\n",
       "    </tr>\n",
       "    <tr>\n",
       "      <th>bile-duct</th>\n",
       "      <td>0.779334</td>\n",
       "      <td>0.712400</td>\n",
       "      <td>0.448318</td>\n",
       "      <td>0.652870</td>\n",
       "    </tr>\n",
       "    <tr>\n",
       "      <th>bladder</th>\n",
       "      <td>0.785134</td>\n",
       "      <td>0.732105</td>\n",
       "      <td>0.572140</td>\n",
       "      <td>0.685692</td>\n",
       "    </tr>\n",
       "    <tr>\n",
       "      <th>breast</th>\n",
       "      <td>0.819227</td>\n",
       "      <td>0.713145</td>\n",
       "      <td>0.494972</td>\n",
       "      <td>0.657931</td>\n",
       "    </tr>\n",
       "    <tr>\n",
       "      <th>cervix</th>\n",
       "      <td>0.720321</td>\n",
       "      <td>0.728072</td>\n",
       "      <td>0.477740</td>\n",
       "      <td>0.672026</td>\n",
       "    </tr>\n",
       "    <tr>\n",
       "      <th>colon</th>\n",
       "      <td>0.699370</td>\n",
       "      <td>0.648711</td>\n",
       "      <td>0.419095</td>\n",
       "      <td>0.566670</td>\n",
       "    </tr>\n",
       "    <tr>\n",
       "      <th>esophagus</th>\n",
       "      <td>0.823998</td>\n",
       "      <td>0.720436</td>\n",
       "      <td>0.522501</td>\n",
       "      <td>0.649727</td>\n",
       "    </tr>\n",
       "    <tr>\n",
       "      <th>headneck</th>\n",
       "      <td>0.664246</td>\n",
       "      <td>0.651436</td>\n",
       "      <td>0.465266</td>\n",
       "      <td>0.623078</td>\n",
       "    </tr>\n",
       "    <tr>\n",
       "      <th>kidney</th>\n",
       "      <td>0.789046</td>\n",
       "      <td>0.736374</td>\n",
       "      <td>0.516703</td>\n",
       "      <td>0.685961</td>\n",
       "    </tr>\n",
       "    <tr>\n",
       "      <th>liver</th>\n",
       "      <td>0.852092</td>\n",
       "      <td>0.754249</td>\n",
       "      <td>0.489525</td>\n",
       "      <td>0.705794</td>\n",
       "    </tr>\n",
       "    <tr>\n",
       "      <th>lung</th>\n",
       "      <td>0.767529</td>\n",
       "      <td>0.650945</td>\n",
       "      <td>0.388499</td>\n",
       "      <td>0.596275</td>\n",
       "    </tr>\n",
       "    <tr>\n",
       "      <th>ovarian</th>\n",
       "      <td>0.838170</td>\n",
       "      <td>0.727219</td>\n",
       "      <td>0.513322</td>\n",
       "      <td>0.659491</td>\n",
       "    </tr>\n",
       "    <tr>\n",
       "      <th>pancreatic</th>\n",
       "      <td>0.837416</td>\n",
       "      <td>0.724724</td>\n",
       "      <td>0.456299</td>\n",
       "      <td>0.649453</td>\n",
       "    </tr>\n",
       "    <tr>\n",
       "      <th>prostate</th>\n",
       "      <td>0.802410</td>\n",
       "      <td>0.713282</td>\n",
       "      <td>0.496034</td>\n",
       "      <td>0.655083</td>\n",
       "    </tr>\n",
       "    <tr>\n",
       "      <th>skin</th>\n",
       "      <td>0.751422</td>\n",
       "      <td>0.655177</td>\n",
       "      <td>0.377689</td>\n",
       "      <td>0.611132</td>\n",
       "    </tr>\n",
       "    <tr>\n",
       "      <th>stomach</th>\n",
       "      <td>0.852329</td>\n",
       "      <td>0.745785</td>\n",
       "      <td>0.425106</td>\n",
       "      <td>0.669632</td>\n",
       "    </tr>\n",
       "    <tr>\n",
       "      <th>testis</th>\n",
       "      <td>0.811424</td>\n",
       "      <td>0.724882</td>\n",
       "      <td>0.488127</td>\n",
       "      <td>0.684818</td>\n",
       "    </tr>\n",
       "    <tr>\n",
       "      <th>thyroid</th>\n",
       "      <td>0.819858</td>\n",
       "      <td>0.731101</td>\n",
       "      <td>0.425490</td>\n",
       "      <td>0.691133</td>\n",
       "    </tr>\n",
       "    <tr>\n",
       "      <th>uterus</th>\n",
       "      <td>0.825910</td>\n",
       "      <td>0.708432</td>\n",
       "      <td>0.442222</td>\n",
       "      <td>0.645446</td>\n",
       "    </tr>\n",
       "  </tbody>\n",
       "</table>\n",
       "</div>"
      ],
      "text/plain": [
       "                   Dice   Jaccard       mPQ       bPQ\n",
       "adrenal_gland  0.829459  0.726831  0.481371  0.687048\n",
       "bile-duct      0.779334  0.712400  0.448318  0.652870\n",
       "bladder        0.785134  0.732105  0.572140  0.685692\n",
       "breast         0.819227  0.713145  0.494972  0.657931\n",
       "cervix         0.720321  0.728072  0.477740  0.672026\n",
       "colon          0.699370  0.648711  0.419095  0.566670\n",
       "esophagus      0.823998  0.720436  0.522501  0.649727\n",
       "headneck       0.664246  0.651436  0.465266  0.623078\n",
       "kidney         0.789046  0.736374  0.516703  0.685961\n",
       "liver          0.852092  0.754249  0.489525  0.705794\n",
       "lung           0.767529  0.650945  0.388499  0.596275\n",
       "ovarian        0.838170  0.727219  0.513322  0.659491\n",
       "pancreatic     0.837416  0.724724  0.456299  0.649453\n",
       "prostate       0.802410  0.713282  0.496034  0.655083\n",
       "skin           0.751422  0.655177  0.377689  0.611132\n",
       "stomach        0.852329  0.745785  0.425106  0.669632\n",
       "testis         0.811424  0.724882  0.488127  0.684818\n",
       "thyroid        0.819858  0.731101  0.425490  0.691133\n",
       "uterus         0.825910  0.708432  0.442222  0.645446"
      ]
     },
     "execution_count": 85,
     "metadata": {},
     "output_type": "execute_result"
    }
   ],
   "source": [
    "tissue_metrics_avg.T"
   ]
  },
  {
   "cell_type": "code",
   "execution_count": 86,
   "metadata": {},
   "outputs": [
    {
     "data": {
      "text/plain": [
       "Dice       0.793089\n",
       "Jaccard    0.710805\n",
       "mPQ        0.468443\n",
       "bPQ        0.655224\n",
       "dtype: float64"
      ]
     },
     "execution_count": 86,
     "metadata": {},
     "output_type": "execute_result"
    }
   ],
   "source": [
    "row_mean = tissue_metrics_avg.mean(axis=1)\n",
    "row_mean"
   ]
  },
  {
   "cell_type": "code",
   "execution_count": 87,
   "metadata": {},
   "outputs": [
    {
     "data": {
      "text/plain": [
       "Dice       0.052442\n",
       "Jaccard    0.033348\n",
       "mPQ        0.048651\n",
       "bPQ        0.035420\n",
       "dtype: float64"
      ]
     },
     "execution_count": 87,
     "metadata": {},
     "output_type": "execute_result"
    }
   ],
   "source": [
    "row_mean = tissue_metrics_avg.std(axis=1)\n",
    "row_mean"
   ]
  },
  {
   "cell_type": "code",
   "execution_count": null,
   "metadata": {},
   "outputs": [],
   "source": []
  }
 ],
 "metadata": {
  "kernelspec": {
   "display_name": "cellvit_env",
   "language": "python",
   "name": "python3"
  },
  "language_info": {
   "codemirror_mode": {
    "name": "ipython",
    "version": 3
   },
   "file_extension": ".py",
   "mimetype": "text/x-python",
   "name": "python",
   "nbconvert_exporter": "python",
   "pygments_lexer": "ipython3",
   "version": "3.9.7"
  },
  "orig_nbformat": 4
 },
 "nbformat": 4,
 "nbformat_minor": 2
}
