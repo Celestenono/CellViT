{
 "cells": [
  {
   "attachments": {},
   "cell_type": "markdown",
   "metadata": {},
   "source": [
    "# Average 3 Fold predictions"
   ]
  },
  {
   "cell_type": "code",
   "execution_count": 7,
   "metadata": {},
   "outputs": [],
   "source": [
    "import json\n",
    "import numpy as np\n",
    "from pathlib import Path\n",
    "import pandas as pd\n",
    "\n",
    "fold_paths = [\n",
    "    \"/homes/fhoerst/histo-projects/CellViT/results/PanNuke/Revision/CellViT/Common-Loss/SAM-H/Best-Setting/2023-09-09T233134_CellViT-SAM-H-Fold-1\",\n",
    "    \"/homes/fhoerst/histo-projects/CellViT/results/PanNuke/Revision/CellViT/Common-Loss/SAM-H/Best-Setting/2023-09-10T014745_CellViT-SAM-H-Fold-2\",\n",
    "    \"/homes/fhoerst/histo-projects/CellViT/results/PanNuke/Revision/CellViT/Common-Loss/SAM-H/Best-Setting/2023-09-10T042813_CellViT-SAM-H-Fold-3\"\n",
    "]\n"
   ]
  },
  {
   "cell_type": "code",
   "execution_count": 34,
   "metadata": {},
   "outputs": [],
   "source": [
    "detection_results = []\n",
    "cell_pq_results = []\n",
    "tissue_metrics = []\n",
    "global_f1 = []\n",
    "global_prec = []\n",
    "global_rec = []\n",
    "\n",
    "\n",
    "for fold, fold_path in enumerate(fold_paths):\n",
    "    json_path = Path(fold_path) / \"inference_results.json\"\n",
    "    \n",
    "    with open(json_path, 'r') as file:\n",
    "        data = json.load(file)\n",
    "    detection_results.append(pd.DataFrame.from_dict(data[\"nuclei_metrics_d\"]))\n",
    "    cell_pq_results.append(pd.DataFrame(data[\"nuclei_metrics_pq\"], index=[0]))\n",
    "    tissue_metrics.append(pd.DataFrame.from_dict(data[\"tissue_metrics\"]))\n",
    "    global_f1.append(float(data[\"dataset\"][\"f1_detection\"]))\n",
    "    global_prec.append(data[\"dataset\"][\"precision_detection\"])\n",
    "    global_rec.append(data[\"dataset\"][\"recall_detection\"])\n",
    "\n",
    "    \n",
    "detection_avg = pd.concat([each.stack() for each in detection_results],axis=1)\\\n",
    "             .apply(lambda x:x.mean(),axis=1)\\\n",
    "             .unstack()\n",
    "cell_pq_avg = pd.concat([each.stack() for each in cell_pq_results],axis=1)\\\n",
    "             .apply(lambda x:x.mean(),axis=1)\\\n",
    "             .unstack()           \n",
    "tissue_metrics_avg = pd.concat([each.stack() for each in tissue_metrics],axis=1)\\\n",
    "             .apply(lambda x:x.mean(),axis=1)\\\n",
    "             .unstack()\n",
    "             \n",
    "global_f1 = np.mean(global_f1)\n",
    "global_prec = np.mean(global_prec)\n",
    "global_rec = np.mean(global_rec)"
   ]
  },
  {
   "attachments": {},
   "cell_type": "markdown",
   "metadata": {},
   "source": [
    "### Detection-Scores"
   ]
  },
  {
   "cell_type": "code",
   "execution_count": 37,
   "metadata": {},
   "outputs": [
    {
     "data": {
      "text/html": [
       "<div>\n",
       "<style scoped>\n",
       "    .dataframe tbody tr th:only-of-type {\n",
       "        vertical-align: middle;\n",
       "    }\n",
       "\n",
       "    .dataframe tbody tr th {\n",
       "        vertical-align: top;\n",
       "    }\n",
       "\n",
       "    .dataframe thead th {\n",
       "        text-align: right;\n",
       "    }\n",
       "</style>\n",
       "<table border=\"1\" class=\"dataframe\">\n",
       "  <thead>\n",
       "    <tr style=\"text-align: right;\">\n",
       "      <th></th>\n",
       "      <th>Neoplastic</th>\n",
       "      <th>Inflammatory</th>\n",
       "      <th>Connective</th>\n",
       "      <th>Dead</th>\n",
       "      <th>Epithelial</th>\n",
       "    </tr>\n",
       "  </thead>\n",
       "  <tbody>\n",
       "    <tr>\n",
       "      <th>f1_cell</th>\n",
       "      <td>0.705147</td>\n",
       "      <td>0.582973</td>\n",
       "      <td>0.534952</td>\n",
       "      <td>0.362748</td>\n",
       "      <td>0.727920</td>\n",
       "    </tr>\n",
       "    <tr>\n",
       "      <th>prec_cell</th>\n",
       "      <td>0.717831</td>\n",
       "      <td>0.592799</td>\n",
       "      <td>0.545667</td>\n",
       "      <td>0.429610</td>\n",
       "      <td>0.723545</td>\n",
       "    </tr>\n",
       "    <tr>\n",
       "      <th>rec_cell</th>\n",
       "      <td>0.692981</td>\n",
       "      <td>0.573694</td>\n",
       "      <td>0.524865</td>\n",
       "      <td>0.316230</td>\n",
       "      <td>0.732355</td>\n",
       "    </tr>\n",
       "  </tbody>\n",
       "</table>\n",
       "</div>"
      ],
      "text/plain": [
       "           Neoplastic  Inflammatory  Connective      Dead  Epithelial\n",
       "f1_cell      0.705147      0.582973    0.534952  0.362748    0.727920\n",
       "prec_cell    0.717831      0.592799    0.545667  0.429610    0.723545\n",
       "rec_cell     0.692981      0.573694    0.524865  0.316230    0.732355"
      ]
     },
     "execution_count": 37,
     "metadata": {},
     "output_type": "execute_result"
    }
   ],
   "source": [
    "detection_avg"
   ]
  },
  {
   "cell_type": "code",
   "execution_count": 38,
   "metadata": {},
   "outputs": [
    {
     "name": "stdout",
     "output_type": "stream",
     "text": [
      "f1: 0.8286793827630442\n",
      "prec: 0.8431059597223264\n",
      "rec: 0.8147530828532997\n"
     ]
    }
   ],
   "source": [
    "print(f\"f1: {global_f1}\")\n",
    "print(f\"prec: {global_prec}\")\n",
    "print(f\"rec: {global_rec}\")"
   ]
  },
  {
   "attachments": {},
   "cell_type": "markdown",
   "metadata": {},
   "source": [
    "### Cell-Type-PQ-Scores"
   ]
  },
  {
   "cell_type": "code",
   "execution_count": 39,
   "metadata": {},
   "outputs": [
    {
     "data": {
      "text/html": [
       "<div>\n",
       "<style scoped>\n",
       "    .dataframe tbody tr th:only-of-type {\n",
       "        vertical-align: middle;\n",
       "    }\n",
       "\n",
       "    .dataframe tbody tr th {\n",
       "        vertical-align: top;\n",
       "    }\n",
       "\n",
       "    .dataframe thead th {\n",
       "        text-align: right;\n",
       "    }\n",
       "</style>\n",
       "<table border=\"1\" class=\"dataframe\">\n",
       "  <thead>\n",
       "    <tr style=\"text-align: right;\">\n",
       "      <th></th>\n",
       "      <th>Neoplastic</th>\n",
       "      <th>Inflammatory</th>\n",
       "      <th>Connective</th>\n",
       "      <th>Dead</th>\n",
       "      <th>Epithelial</th>\n",
       "    </tr>\n",
       "  </thead>\n",
       "  <tbody>\n",
       "    <tr>\n",
       "      <th>0</th>\n",
       "      <td>0.510192</td>\n",
       "      <td>0.532432</td>\n",
       "      <td>0.546633</td>\n",
       "      <td>0.555504</td>\n",
       "      <td>0.565922</td>\n",
       "    </tr>\n",
       "  </tbody>\n",
       "</table>\n",
       "</div>"
      ],
      "text/plain": [
       "   Neoplastic  Inflammatory  Connective      Dead  Epithelial\n",
       "0    0.510192      0.532432    0.546633  0.555504    0.565922"
      ]
     },
     "execution_count": 39,
     "metadata": {},
     "output_type": "execute_result"
    }
   ],
   "source": [
    "cell_pq_avg"
   ]
  },
  {
   "attachments": {},
   "cell_type": "markdown",
   "metadata": {},
   "source": [
    "### Tissue-Type-PQ-Scores"
   ]
  },
  {
   "cell_type": "code",
   "execution_count": null,
   "metadata": {},
   "outputs": [],
   "source": []
  },
  {
   "cell_type": "code",
   "execution_count": 40,
   "metadata": {},
   "outputs": [
    {
     "data": {
      "text/html": [
       "<div>\n",
       "<style scoped>\n",
       "    .dataframe tbody tr th:only-of-type {\n",
       "        vertical-align: middle;\n",
       "    }\n",
       "\n",
       "    .dataframe tbody tr th {\n",
       "        vertical-align: top;\n",
       "    }\n",
       "\n",
       "    .dataframe thead th {\n",
       "        text-align: right;\n",
       "    }\n",
       "</style>\n",
       "<table border=\"1\" class=\"dataframe\">\n",
       "  <thead>\n",
       "    <tr style=\"text-align: right;\">\n",
       "      <th></th>\n",
       "      <th>adrenal_gland</th>\n",
       "      <th>bile-duct</th>\n",
       "      <th>bladder</th>\n",
       "      <th>breast</th>\n",
       "      <th>cervix</th>\n",
       "      <th>colon</th>\n",
       "      <th>esophagus</th>\n",
       "      <th>headneck</th>\n",
       "      <th>kidney</th>\n",
       "      <th>liver</th>\n",
       "      <th>lung</th>\n",
       "      <th>ovarian</th>\n",
       "      <th>pancreatic</th>\n",
       "      <th>prostate</th>\n",
       "      <th>skin</th>\n",
       "      <th>stomach</th>\n",
       "      <th>testis</th>\n",
       "      <th>thyroid</th>\n",
       "      <th>uterus</th>\n",
       "    </tr>\n",
       "  </thead>\n",
       "  <tbody>\n",
       "    <tr>\n",
       "      <th>Dice</th>\n",
       "      <td>0.844341</td>\n",
       "      <td>0.795063</td>\n",
       "      <td>0.801130</td>\n",
       "      <td>0.836509</td>\n",
       "      <td>0.734218</td>\n",
       "      <td>0.727962</td>\n",
       "      <td>0.841344</td>\n",
       "      <td>0.695361</td>\n",
       "      <td>0.804208</td>\n",
       "      <td>0.870474</td>\n",
       "      <td>0.822380</td>\n",
       "      <td>0.855181</td>\n",
       "      <td>0.852738</td>\n",
       "      <td>0.824733</td>\n",
       "      <td>0.806273</td>\n",
       "      <td>0.873733</td>\n",
       "      <td>0.826648</td>\n",
       "      <td>0.834818</td>\n",
       "      <td>0.848028</td>\n",
       "    </tr>\n",
       "    <tr>\n",
       "      <th>Jaccard</th>\n",
       "      <td>0.749195</td>\n",
       "      <td>0.737103</td>\n",
       "      <td>0.751422</td>\n",
       "      <td>0.739229</td>\n",
       "      <td>0.746081</td>\n",
       "      <td>0.687589</td>\n",
       "      <td>0.745632</td>\n",
       "      <td>0.698502</td>\n",
       "      <td>0.756291</td>\n",
       "      <td>0.778295</td>\n",
       "      <td>0.721944</td>\n",
       "      <td>0.752736</td>\n",
       "      <td>0.748346</td>\n",
       "      <td>0.740345</td>\n",
       "      <td>0.710987</td>\n",
       "      <td>0.779146</td>\n",
       "      <td>0.748974</td>\n",
       "      <td>0.753538</td>\n",
       "      <td>0.741031</td>\n",
       "    </tr>\n",
       "    <tr>\n",
       "      <th>mPQ</th>\n",
       "      <td>0.546066</td>\n",
       "      <td>0.490967</td>\n",
       "      <td>0.494337</td>\n",
       "      <td>0.524832</td>\n",
       "      <td>0.561727</td>\n",
       "      <td>0.464541</td>\n",
       "      <td>0.553104</td>\n",
       "      <td>0.487259</td>\n",
       "      <td>0.547252</td>\n",
       "      <td>0.582973</td>\n",
       "      <td>0.461155</td>\n",
       "      <td>0.522481</td>\n",
       "      <td>0.537928</td>\n",
       "      <td>0.531873</td>\n",
       "      <td>0.509838</td>\n",
       "      <td>0.532414</td>\n",
       "      <td>0.505622</td>\n",
       "      <td>0.525420</td>\n",
       "      <td>0.494462</td>\n",
       "    </tr>\n",
       "    <tr>\n",
       "      <th>bPQ</th>\n",
       "      <td>0.704657</td>\n",
       "      <td>0.638334</td>\n",
       "      <td>0.655327</td>\n",
       "      <td>0.666195</td>\n",
       "      <td>0.593005</td>\n",
       "      <td>0.533350</td>\n",
       "      <td>0.664905</td>\n",
       "      <td>0.555810</td>\n",
       "      <td>0.661817</td>\n",
       "      <td>0.727546</td>\n",
       "      <td>0.631782</td>\n",
       "      <td>0.672118</td>\n",
       "      <td>0.665474</td>\n",
       "      <td>0.663552</td>\n",
       "      <td>0.640628</td>\n",
       "      <td>0.701157</td>\n",
       "      <td>0.673930</td>\n",
       "      <td>0.698241</td>\n",
       "      <td>0.661663</td>\n",
       "    </tr>\n",
       "  </tbody>\n",
       "</table>\n",
       "</div>"
      ],
      "text/plain": [
       "         adrenal_gland  bile-duct   bladder    breast    cervix     colon  \\\n",
       "Dice          0.844341   0.795063  0.801130  0.836509  0.734218  0.727962   \n",
       "Jaccard       0.749195   0.737103  0.751422  0.739229  0.746081  0.687589   \n",
       "mPQ           0.546066   0.490967  0.494337  0.524832  0.561727  0.464541   \n",
       "bPQ           0.704657   0.638334  0.655327  0.666195  0.593005  0.533350   \n",
       "\n",
       "         esophagus  headneck    kidney     liver      lung   ovarian  \\\n",
       "Dice      0.841344  0.695361  0.804208  0.870474  0.822380  0.855181   \n",
       "Jaccard   0.745632  0.698502  0.756291  0.778295  0.721944  0.752736   \n",
       "mPQ       0.553104  0.487259  0.547252  0.582973  0.461155  0.522481   \n",
       "bPQ       0.664905  0.555810  0.661817  0.727546  0.631782  0.672118   \n",
       "\n",
       "         pancreatic  prostate      skin   stomach    testis   thyroid  \\\n",
       "Dice       0.852738  0.824733  0.806273  0.873733  0.826648  0.834818   \n",
       "Jaccard    0.748346  0.740345  0.710987  0.779146  0.748974  0.753538   \n",
       "mPQ        0.537928  0.531873  0.509838  0.532414  0.505622  0.525420   \n",
       "bPQ        0.665474  0.663552  0.640628  0.701157  0.673930  0.698241   \n",
       "\n",
       "           uterus  \n",
       "Dice     0.848028  \n",
       "Jaccard  0.741031  \n",
       "mPQ      0.494462  \n",
       "bPQ      0.661663  "
      ]
     },
     "execution_count": 40,
     "metadata": {},
     "output_type": "execute_result"
    }
   ],
   "source": [
    "tissue_metrics_avg"
   ]
  },
  {
   "cell_type": "code",
   "execution_count": 42,
   "metadata": {},
   "outputs": [
    {
     "data": {
      "text/plain": [
       "Dice       0.815534\n",
       "Jaccard    0.741389\n",
       "mPQ        0.519697\n",
       "bPQ        0.653131\n",
       "dtype: float64"
      ]
     },
     "execution_count": 42,
     "metadata": {},
     "output_type": "execute_result"
    }
   ],
   "source": [
    "row_mean = tissue_metrics_avg.mean(axis=1)\n",
    "row_mean"
   ]
  },
  {
   "cell_type": "code",
   "execution_count": null,
   "metadata": {},
   "outputs": [],
   "source": []
  }
 ],
 "metadata": {
  "kernelspec": {
   "display_name": "cellvit_env",
   "language": "python",
   "name": "python3"
  },
  "language_info": {
   "codemirror_mode": {
    "name": "ipython",
    "version": 3
   },
   "file_extension": ".py",
   "mimetype": "text/x-python",
   "name": "python",
   "nbconvert_exporter": "python",
   "pygments_lexer": "ipython3",
   "version": "3.9.7"
  },
  "orig_nbformat": 4
 },
 "nbformat": 4,
 "nbformat_minor": 2
}
