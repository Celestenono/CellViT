{
 "cells": [
  {
   "attachments": {},
   "cell_type": "markdown",
   "metadata": {},
   "source": [
    "# Average 3 Fold predictions"
   ]
  },
  {
   "cell_type": "code",
   "execution_count": 19,
   "metadata": {},
   "outputs": [],
   "source": [
    "import json\n",
    "import numpy as np\n",
    "from pathlib import Path\n",
    "import pandas as pd\n",
    "\n",
    "# fold_paths = [\n",
    "#     \"/homes/fhoerst/histo-projects/CellViT/results/PanNuke/Revision/CellViT/Common-Loss/SAM-H/Best-Setting/Fold-1\",\n",
    "#     \"/homes/fhoerst/histo-projects/CellViT/results/PanNuke/Revision/CellViT/Common-Loss/SAM-H/Best-Setting/Fold-2\",\n",
    "#     \"/homes/fhoerst/histo-projects/CellViT/results/PanNuke/Revision/CellViT/Common-Loss/SAM-H/Best-Setting/Fold-3\"\n",
    "# ]\n",
    "\n",
    "fold_paths = [\n",
    "    \"/homes/fhoerst/histo-projects/CellViT/results/PanNuke/Revision/CellViTStarDist/Common-Loss/ViT256/Unshared-decoder/CPP-Net-Setting/Fold-1\",\n",
    "    \"/homes/fhoerst/histo-projects/CellViT/results/PanNuke/Revision/CellViTStarDist/Common-Loss/ViT256/Unshared-decoder/CPP-Net-Setting/Fold-2\",\n",
    "    \"/homes/fhoerst/histo-projects/CellViT/results/PanNuke/Revision/CellViTStarDist/Common-Loss/ViT256/Unshared-decoder/CPP-Net-Setting/Fold-3\"\n",
    "]\n",
    "\n",
    "\n",
    "# fold_paths = [\n",
    "#     \"/homes/fhoerst/histo-projects/CellViT/results/PanNuke/Revision/CellViT/Common-Loss/SAM-L/Best-Setting/Fold-1\",\n",
    "#     \"/homes/fhoerst/histo-projects/CellViT/results/PanNuke/Revision/CellViT/Common-Loss/SAM-L/Best-Setting/Fold-2\",\n",
    "#     \"/homes/fhoerst/histo-projects/CellViT/results/PanNuke/Revision/CellViT/Common-Loss/SAM-L/Best-Setting/Fold-3\"\n",
    "# ]\n",
    "\n",
    "# fold_paths = [\n",
    "#     #\"/homes/fhoerst/histo-projects/CellViT/results/PanNuke/Revision/CellViT/Common-Loss/SAM-L/Best-Setting/2023-09-19T123306_CellViT-SAM-L-Fold-1\",\n",
    "#     #\"/homes/fhoerst/histo-projects/CellViT/results/PanNuke/Revision/CellViT/Common-Loss/SAM-L/Best-Setting/2023-09-19T123306_CellViT-SAM-L-Fold-2\",\n",
    "#     # \"/homes/fhoerst/histo-projects/CellViT/results/PanNuke/Revision/CellViT/Common-Loss/SAM-L/Best-Setting/2023-09-19T221050_CellViT-SAM-L-Fold-3\"\n",
    "# ]"
   ]
  },
  {
   "cell_type": "code",
   "execution_count": 20,
   "metadata": {},
   "outputs": [],
   "source": [
    "detection_results = []\n",
    "cell_pq_results = []\n",
    "tissue_metrics = []\n",
    "global_f1 = []\n",
    "global_prec = []\n",
    "global_rec = []\n",
    "\n",
    "\n",
    "for fold, fold_path in enumerate(fold_paths):\n",
    "    json_path = Path(fold_path) / \"inference_results.json\"\n",
    "    \n",
    "    with open(json_path, 'r') as file:\n",
    "        data = json.load(file)\n",
    "    detection_results.append(pd.DataFrame.from_dict(data[\"nuclei_metrics_d\"]))\n",
    "    cell_pq_results.append(pd.DataFrame(data[\"nuclei_metrics_pq\"], index=[0]))\n",
    "    tissue_metrics.append(pd.DataFrame.from_dict(data[\"tissue_metrics\"]))\n",
    "    global_f1.append(float(data[\"dataset\"][\"f1_detection\"]))\n",
    "    global_prec.append(data[\"dataset\"][\"precision_detection\"])\n",
    "    global_rec.append(data[\"dataset\"][\"recall_detection\"])\n",
    "\n",
    "detection_avg = pd.concat([each.stack() for each in detection_results],axis=1)\\\n",
    "             .apply(lambda x:x.mean(),axis=1)\\\n",
    "             .unstack()\n",
    "cell_pq_avg = pd.concat([each.stack() for each in cell_pq_results],axis=1)\\\n",
    "             .apply(lambda x:x.mean(),axis=1)\\\n",
    "             .unstack()           \n",
    "tissue_metrics_avg = pd.concat([each.stack() for each in tissue_metrics],axis=1)\\\n",
    "             .apply(lambda x:x.mean(),axis=1)\\\n",
    "             .unstack()\n",
    "             \n",
    "global_f1 = np.mean(global_f1)\n",
    "global_prec = np.mean(global_prec)\n",
    "global_rec = np.mean(global_rec)"
   ]
  },
  {
   "attachments": {},
   "cell_type": "markdown",
   "metadata": {},
   "source": [
    "### Detection-Scores"
   ]
  },
  {
   "cell_type": "code",
   "execution_count": 21,
   "metadata": {},
   "outputs": [
    {
     "data": {
      "text/html": [
       "<div>\n",
       "<style scoped>\n",
       "    .dataframe tbody tr th:only-of-type {\n",
       "        vertical-align: middle;\n",
       "    }\n",
       "\n",
       "    .dataframe tbody tr th {\n",
       "        vertical-align: top;\n",
       "    }\n",
       "\n",
       "    .dataframe thead th {\n",
       "        text-align: right;\n",
       "    }\n",
       "</style>\n",
       "<table border=\"1\" class=\"dataframe\">\n",
       "  <thead>\n",
       "    <tr style=\"text-align: right;\">\n",
       "      <th></th>\n",
       "      <th>f1_cell</th>\n",
       "      <th>prec_cell</th>\n",
       "      <th>rec_cell</th>\n",
       "    </tr>\n",
       "  </thead>\n",
       "  <tbody>\n",
       "    <tr>\n",
       "      <th>Neoplastic</th>\n",
       "      <td>0.599791</td>\n",
       "      <td>0.608217</td>\n",
       "      <td>0.591758</td>\n",
       "    </tr>\n",
       "    <tr>\n",
       "      <th>Inflammatory</th>\n",
       "      <td>0.533746</td>\n",
       "      <td>0.560678</td>\n",
       "      <td>0.509443</td>\n",
       "    </tr>\n",
       "    <tr>\n",
       "      <th>Connective</th>\n",
       "      <td>0.436772</td>\n",
       "      <td>0.444615</td>\n",
       "      <td>0.429600</td>\n",
       "    </tr>\n",
       "    <tr>\n",
       "      <th>Dead</th>\n",
       "      <td>0.249274</td>\n",
       "      <td>0.225969</td>\n",
       "      <td>0.278972</td>\n",
       "    </tr>\n",
       "    <tr>\n",
       "      <th>Epithelial</th>\n",
       "      <td>0.576339</td>\n",
       "      <td>0.600444</td>\n",
       "      <td>0.555460</td>\n",
       "    </tr>\n",
       "  </tbody>\n",
       "</table>\n",
       "</div>"
      ],
      "text/plain": [
       "               f1_cell  prec_cell  rec_cell\n",
       "Neoplastic    0.599791   0.608217  0.591758\n",
       "Inflammatory  0.533746   0.560678  0.509443\n",
       "Connective    0.436772   0.444615  0.429600\n",
       "Dead          0.249274   0.225969  0.278972\n",
       "Epithelial    0.576339   0.600444  0.555460"
      ]
     },
     "execution_count": 21,
     "metadata": {},
     "output_type": "execute_result"
    }
   ],
   "source": [
    "detection_avg.T"
   ]
  },
  {
   "cell_type": "code",
   "execution_count": 22,
   "metadata": {},
   "outputs": [
    {
     "name": "stdout",
     "output_type": "stream",
     "text": [
      "f1: 0.7619087686580319\n",
      "prec: 0.777588247819053\n",
      "rec: 0.7472319754008732\n"
     ]
    }
   ],
   "source": [
    "print(f\"f1: {global_f1}\")\n",
    "print(f\"prec: {global_prec}\")\n",
    "print(f\"rec: {global_rec}\")"
   ]
  },
  {
   "attachments": {},
   "cell_type": "markdown",
   "metadata": {},
   "source": [
    "### Cell-Type-PQ-Scores"
   ]
  },
  {
   "cell_type": "code",
   "execution_count": 23,
   "metadata": {},
   "outputs": [
    {
     "data": {
      "text/html": [
       "<div>\n",
       "<style scoped>\n",
       "    .dataframe tbody tr th:only-of-type {\n",
       "        vertical-align: middle;\n",
       "    }\n",
       "\n",
       "    .dataframe tbody tr th {\n",
       "        vertical-align: top;\n",
       "    }\n",
       "\n",
       "    .dataframe thead th {\n",
       "        text-align: right;\n",
       "    }\n",
       "</style>\n",
       "<table border=\"1\" class=\"dataframe\">\n",
       "  <thead>\n",
       "    <tr style=\"text-align: right;\">\n",
       "      <th></th>\n",
       "      <th>Neoplastic</th>\n",
       "      <th>Inflammatory</th>\n",
       "      <th>Connective</th>\n",
       "      <th>Dead</th>\n",
       "      <th>Epithelial</th>\n",
       "    </tr>\n",
       "  </thead>\n",
       "  <tbody>\n",
       "    <tr>\n",
       "      <th>0</th>\n",
       "      <td>0.423096</td>\n",
       "      <td>0.349143</td>\n",
       "      <td>0.240301</td>\n",
       "      <td>0.081575</td>\n",
       "      <td>0.38168</td>\n",
       "    </tr>\n",
       "  </tbody>\n",
       "</table>\n",
       "</div>"
      ],
      "text/plain": [
       "   Neoplastic  Inflammatory  Connective      Dead  Epithelial\n",
       "0    0.423096      0.349143    0.240301  0.081575     0.38168"
      ]
     },
     "execution_count": 23,
     "metadata": {},
     "output_type": "execute_result"
    }
   ],
   "source": [
    "cell_pq_avg"
   ]
  },
  {
   "attachments": {},
   "cell_type": "markdown",
   "metadata": {},
   "source": [
    "### Tissue-Type-PQ-Scores"
   ]
  },
  {
   "cell_type": "code",
   "execution_count": 6,
   "metadata": {},
   "outputs": [
    {
     "data": {
      "text/html": [
       "<div>\n",
       "<style scoped>\n",
       "    .dataframe tbody tr th:only-of-type {\n",
       "        vertical-align: middle;\n",
       "    }\n",
       "\n",
       "    .dataframe tbody tr th {\n",
       "        vertical-align: top;\n",
       "    }\n",
       "\n",
       "    .dataframe thead th {\n",
       "        text-align: right;\n",
       "    }\n",
       "</style>\n",
       "<table border=\"1\" class=\"dataframe\">\n",
       "  <thead>\n",
       "    <tr style=\"text-align: right;\">\n",
       "      <th></th>\n",
       "      <th>Dice</th>\n",
       "      <th>Jaccard</th>\n",
       "      <th>mPQ</th>\n",
       "      <th>bPQ</th>\n",
       "    </tr>\n",
       "  </thead>\n",
       "  <tbody>\n",
       "    <tr>\n",
       "      <th>adrenal_gland</th>\n",
       "      <td>0.832176</td>\n",
       "      <td>0.727592</td>\n",
       "      <td>0.430762</td>\n",
       "      <td>0.660475</td>\n",
       "    </tr>\n",
       "    <tr>\n",
       "      <th>bile-duct</th>\n",
       "      <td>0.784503</td>\n",
       "      <td>0.706498</td>\n",
       "      <td>0.436279</td>\n",
       "      <td>0.632253</td>\n",
       "    </tr>\n",
       "    <tr>\n",
       "      <th>bladder</th>\n",
       "      <td>0.792025</td>\n",
       "      <td>0.719128</td>\n",
       "      <td>0.554560</td>\n",
       "      <td>0.660057</td>\n",
       "    </tr>\n",
       "    <tr>\n",
       "      <th>breast</th>\n",
       "      <td>0.826190</td>\n",
       "      <td>0.717780</td>\n",
       "      <td>0.468221</td>\n",
       "      <td>0.628305</td>\n",
       "    </tr>\n",
       "    <tr>\n",
       "      <th>cervix</th>\n",
       "      <td>0.723431</td>\n",
       "      <td>0.689100</td>\n",
       "      <td>0.461308</td>\n",
       "      <td>0.644862</td>\n",
       "    </tr>\n",
       "    <tr>\n",
       "      <th>colon</th>\n",
       "      <td>0.708932</td>\n",
       "      <td>0.652689</td>\n",
       "      <td>0.377279</td>\n",
       "      <td>0.518341</td>\n",
       "    </tr>\n",
       "    <tr>\n",
       "      <th>esophagus</th>\n",
       "      <td>0.824041</td>\n",
       "      <td>0.721220</td>\n",
       "      <td>0.483496</td>\n",
       "      <td>0.607718</td>\n",
       "    </tr>\n",
       "    <tr>\n",
       "      <th>headneck</th>\n",
       "      <td>0.673978</td>\n",
       "      <td>0.642576</td>\n",
       "      <td>0.435510</td>\n",
       "      <td>0.596915</td>\n",
       "    </tr>\n",
       "    <tr>\n",
       "      <th>kidney</th>\n",
       "      <td>0.788237</td>\n",
       "      <td>0.693075</td>\n",
       "      <td>0.474722</td>\n",
       "      <td>0.658667</td>\n",
       "    </tr>\n",
       "    <tr>\n",
       "      <th>liver</th>\n",
       "      <td>0.856573</td>\n",
       "      <td>0.757436</td>\n",
       "      <td>0.460317</td>\n",
       "      <td>0.685766</td>\n",
       "    </tr>\n",
       "    <tr>\n",
       "      <th>lung</th>\n",
       "      <td>0.812086</td>\n",
       "      <td>0.703141</td>\n",
       "      <td>0.366608</td>\n",
       "      <td>0.594958</td>\n",
       "    </tr>\n",
       "    <tr>\n",
       "      <th>ovarian</th>\n",
       "      <td>0.845851</td>\n",
       "      <td>0.738709</td>\n",
       "      <td>0.481359</td>\n",
       "      <td>0.619151</td>\n",
       "    </tr>\n",
       "    <tr>\n",
       "      <th>pancreatic</th>\n",
       "      <td>0.841907</td>\n",
       "      <td>0.731445</td>\n",
       "      <td>0.443117</td>\n",
       "      <td>0.626572</td>\n",
       "    </tr>\n",
       "    <tr>\n",
       "      <th>prostate</th>\n",
       "      <td>0.812397</td>\n",
       "      <td>0.714746</td>\n",
       "      <td>0.469091</td>\n",
       "      <td>0.630780</td>\n",
       "    </tr>\n",
       "    <tr>\n",
       "      <th>skin</th>\n",
       "      <td>0.754379</td>\n",
       "      <td>0.642986</td>\n",
       "      <td>0.336187</td>\n",
       "      <td>0.574489</td>\n",
       "    </tr>\n",
       "    <tr>\n",
       "      <th>stomach</th>\n",
       "      <td>0.859726</td>\n",
       "      <td>0.757013</td>\n",
       "      <td>0.411349</td>\n",
       "      <td>0.653058</td>\n",
       "    </tr>\n",
       "    <tr>\n",
       "      <th>testis</th>\n",
       "      <td>0.818019</td>\n",
       "      <td>0.726158</td>\n",
       "      <td>0.473073</td>\n",
       "      <td>0.652608</td>\n",
       "    </tr>\n",
       "    <tr>\n",
       "      <th>thyroid</th>\n",
       "      <td>0.827546</td>\n",
       "      <td>0.726914</td>\n",
       "      <td>0.390477</td>\n",
       "      <td>0.668859</td>\n",
       "    </tr>\n",
       "    <tr>\n",
       "      <th>uterus</th>\n",
       "      <td>0.828152</td>\n",
       "      <td>0.713844</td>\n",
       "      <td>0.437889</td>\n",
       "      <td>0.587321</td>\n",
       "    </tr>\n",
       "  </tbody>\n",
       "</table>\n",
       "</div>"
      ],
      "text/plain": [
       "                   Dice   Jaccard       mPQ       bPQ\n",
       "adrenal_gland  0.832176  0.727592  0.430762  0.660475\n",
       "bile-duct      0.784503  0.706498  0.436279  0.632253\n",
       "bladder        0.792025  0.719128  0.554560  0.660057\n",
       "breast         0.826190  0.717780  0.468221  0.628305\n",
       "cervix         0.723431  0.689100  0.461308  0.644862\n",
       "colon          0.708932  0.652689  0.377279  0.518341\n",
       "esophagus      0.824041  0.721220  0.483496  0.607718\n",
       "headneck       0.673978  0.642576  0.435510  0.596915\n",
       "kidney         0.788237  0.693075  0.474722  0.658667\n",
       "liver          0.856573  0.757436  0.460317  0.685766\n",
       "lung           0.812086  0.703141  0.366608  0.594958\n",
       "ovarian        0.845851  0.738709  0.481359  0.619151\n",
       "pancreatic     0.841907  0.731445  0.443117  0.626572\n",
       "prostate       0.812397  0.714746  0.469091  0.630780\n",
       "skin           0.754379  0.642986  0.336187  0.574489\n",
       "stomach        0.859726  0.757013  0.411349  0.653058\n",
       "testis         0.818019  0.726158  0.473073  0.652608\n",
       "thyroid        0.827546  0.726914  0.390477  0.668859\n",
       "uterus         0.828152  0.713844  0.437889  0.587321"
      ]
     },
     "execution_count": 6,
     "metadata": {},
     "output_type": "execute_result"
    }
   ],
   "source": [
    "tissue_metrics_avg.T"
   ]
  },
  {
   "cell_type": "code",
   "execution_count": 7,
   "metadata": {},
   "outputs": [
    {
     "data": {
      "text/plain": [
       "Dice       0.800534\n",
       "Jaccard    0.709582\n",
       "mPQ        0.441663\n",
       "bPQ        0.626377\n",
       "dtype: float64"
      ]
     },
     "execution_count": 7,
     "metadata": {},
     "output_type": "execute_result"
    }
   ],
   "source": [
    "row_mean = tissue_metrics_avg.mean(axis=1)\n",
    "row_mean"
   ]
  },
  {
   "cell_type": "code",
   "execution_count": 8,
   "metadata": {},
   "outputs": [
    {
     "data": {
      "text/plain": [
       "Dice       0.051455\n",
       "Jaccard    0.033341\n",
       "mPQ        0.049993\n",
       "bPQ        0.039872\n",
       "dtype: float64"
      ]
     },
     "execution_count": 8,
     "metadata": {},
     "output_type": "execute_result"
    }
   ],
   "source": [
    "row_mean = tissue_metrics_avg.std(axis=1)\n",
    "row_mean"
   ]
  },
  {
   "cell_type": "code",
   "execution_count": null,
   "metadata": {},
   "outputs": [],
   "source": []
  }
 ],
 "metadata": {
  "kernelspec": {
   "display_name": "cellvit_env",
   "language": "python",
   "name": "python3"
  },
  "language_info": {
   "codemirror_mode": {
    "name": "ipython",
    "version": 3
   },
   "file_extension": ".py",
   "mimetype": "text/x-python",
   "name": "python",
   "nbconvert_exporter": "python",
   "pygments_lexer": "ipython3",
   "version": "3.9.7"
  },
  "orig_nbformat": 4
 },
 "nbformat": 4,
 "nbformat_minor": 2
}
