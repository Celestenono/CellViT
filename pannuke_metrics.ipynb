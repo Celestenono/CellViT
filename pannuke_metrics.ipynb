{
 "cells": [
  {
   "attachments": {},
   "cell_type": "markdown",
   "metadata": {},
   "source": [
    "# Average 3 Fold predictions"
   ]
  },
  {
   "cell_type": "code",
   "execution_count": 1,
   "metadata": {},
   "outputs": [],
   "source": [
    "import json\n",
    "import numpy as np\n",
    "from pathlib import Path\n",
    "import pandas as pd\n",
    "\n",
    "# fold_paths = [\n",
    "#     \"/homes/fhoerst/histo-projects/CellViT/results/PanNuke/Revision/CellViT/Common-Loss/SAM-H/Best-Setting/Fold-1\",\n",
    "#     \"/homes/fhoerst/histo-projects/CellViT/results/PanNuke/Revision/CellViT/Common-Loss/SAM-H/Best-Setting/Fold-2\",\n",
    "#     \"/homes/fhoerst/histo-projects/CellViT/results/PanNuke/Revision/CellViT/Common-Loss/SAM-H/Best-Setting/Fold-3\"\n",
    "# ]\n",
    "\n",
    "fold_paths = [\n",
    "    \"/homes/fhoerst/histo-projects/CellViT/results/PanNuke/Revision/CellViTStarDist/Common-Loss/RN50/Settings-combined/Fold-1\",\n",
    "    \"/homes/fhoerst/histo-projects/CellViT/results/PanNuke/Revision/CellViTStarDist/Common-Loss/RN50/Settings-combined/Fold-1\",\n",
    "    \"/homes/fhoerst/histo-projects/CellViT/results/PanNuke/Revision/CellViTStarDist/Common-Loss/RN50/Settings-combined/Fold-1\"\n",
    "]\n",
    "\n",
    "\n",
    "# fold_paths = [\n",
    "#     \"/homes/fhoerst/histo-projects/CellViT/results/PanNuke/Revision/CellViT/Common-Loss/SAM-L/Best-Setting/Fold-1\",\n",
    "#     \"/homes/fhoerst/histo-projects/CellViT/results/PanNuke/Revision/CellViT/Common-Loss/SAM-L/Best-Setting/Fold-2\",\n",
    "#     \"/homes/fhoerst/histo-projects/CellViT/results/PanNuke/Revision/CellViT/Common-Loss/SAM-L/Best-Setting/Fold-3\"\n",
    "# ]\n",
    "\n",
    "# fold_paths = [\n",
    "#     #\"/homes/fhoerst/histo-projects/CellViT/results/PanNuke/Revision/CellViT/Common-Loss/SAM-L/Best-Setting/2023-09-19T123306_CellViT-SAM-L-Fold-1\",\n",
    "#     #\"/homes/fhoerst/histo-projects/CellViT/results/PanNuke/Revision/CellViT/Common-Loss/SAM-L/Best-Setting/2023-09-19T123306_CellViT-SAM-L-Fold-2\",\n",
    "#     # \"/homes/fhoerst/histo-projects/CellViT/results/PanNuke/Revision/CellViT/Common-Loss/SAM-L/Best-Setting/2023-09-19T221050_CellViT-SAM-L-Fold-3\"\n",
    "# ]"
   ]
  },
  {
   "cell_type": "code",
   "execution_count": 2,
   "metadata": {},
   "outputs": [],
   "source": [
    "detection_results = []\n",
    "cell_pq_results = []\n",
    "tissue_metrics = []\n",
    "global_f1 = []\n",
    "global_prec = []\n",
    "global_rec = []\n",
    "\n",
    "\n",
    "for fold, fold_path in enumerate(fold_paths):\n",
    "    json_path = Path(fold_path) / \"inference_results.json\"\n",
    "    \n",
    "    with open(json_path, 'r') as file:\n",
    "        data = json.load(file)\n",
    "    detection_results.append(pd.DataFrame.from_dict(data[\"nuclei_metrics_d\"]))\n",
    "    cell_pq_results.append(pd.DataFrame(data[\"nuclei_metrics_pq\"], index=[0]))\n",
    "    tissue_metrics.append(pd.DataFrame.from_dict(data[\"tissue_metrics\"]))\n",
    "    global_f1.append(float(data[\"dataset\"][\"f1_detection\"]))\n",
    "    global_prec.append(data[\"dataset\"][\"precision_detection\"])\n",
    "    global_rec.append(data[\"dataset\"][\"recall_detection\"])\n",
    "\n",
    "detection_avg = pd.concat([each.stack() for each in detection_results],axis=1)\\\n",
    "             .apply(lambda x:x.mean(),axis=1)\\\n",
    "             .unstack()\n",
    "cell_pq_avg = pd.concat([each.stack() for each in cell_pq_results],axis=1)\\\n",
    "             .apply(lambda x:x.mean(),axis=1)\\\n",
    "             .unstack()           \n",
    "tissue_metrics_avg = pd.concat([each.stack() for each in tissue_metrics],axis=1)\\\n",
    "             .apply(lambda x:x.mean(),axis=1)\\\n",
    "             .unstack()\n",
    "             \n",
    "global_f1 = np.mean(global_f1)\n",
    "global_prec = np.mean(global_prec)\n",
    "global_rec = np.mean(global_rec)"
   ]
  },
  {
   "attachments": {},
   "cell_type": "markdown",
   "metadata": {},
   "source": [
    "### Detection-Scores"
   ]
  },
  {
   "cell_type": "code",
   "execution_count": 3,
   "metadata": {},
   "outputs": [
    {
     "data": {
      "text/html": [
       "<div>\n",
       "<style scoped>\n",
       "    .dataframe tbody tr th:only-of-type {\n",
       "        vertical-align: middle;\n",
       "    }\n",
       "\n",
       "    .dataframe tbody tr th {\n",
       "        vertical-align: top;\n",
       "    }\n",
       "\n",
       "    .dataframe thead th {\n",
       "        text-align: right;\n",
       "    }\n",
       "</style>\n",
       "<table border=\"1\" class=\"dataframe\">\n",
       "  <thead>\n",
       "    <tr style=\"text-align: right;\">\n",
       "      <th></th>\n",
       "      <th>f1_cell</th>\n",
       "      <th>prec_cell</th>\n",
       "      <th>rec_cell</th>\n",
       "    </tr>\n",
       "  </thead>\n",
       "  <tbody>\n",
       "    <tr>\n",
       "      <th>Neoplastic</th>\n",
       "      <td>0.666441</td>\n",
       "      <td>0.683828</td>\n",
       "      <td>0.649916</td>\n",
       "    </tr>\n",
       "    <tr>\n",
       "      <th>Inflammatory</th>\n",
       "      <td>0.565520</td>\n",
       "      <td>0.605344</td>\n",
       "      <td>0.530612</td>\n",
       "    </tr>\n",
       "    <tr>\n",
       "      <th>Connective</th>\n",
       "      <td>0.495989</td>\n",
       "      <td>0.499849</td>\n",
       "      <td>0.492189</td>\n",
       "    </tr>\n",
       "    <tr>\n",
       "      <th>Dead</th>\n",
       "      <td>0.023647</td>\n",
       "      <td>1.000000</td>\n",
       "      <td>0.011965</td>\n",
       "    </tr>\n",
       "    <tr>\n",
       "      <th>Epithelial</th>\n",
       "      <td>0.638029</td>\n",
       "      <td>0.704381</td>\n",
       "      <td>0.583101</td>\n",
       "    </tr>\n",
       "  </tbody>\n",
       "</table>\n",
       "</div>"
      ],
      "text/plain": [
       "               f1_cell  prec_cell  rec_cell\n",
       "Neoplastic    0.666441   0.683828  0.649916\n",
       "Inflammatory  0.565520   0.605344  0.530612\n",
       "Connective    0.495989   0.499849  0.492189\n",
       "Dead          0.023647   1.000000  0.011965\n",
       "Epithelial    0.638029   0.704381  0.583101"
      ]
     },
     "execution_count": 3,
     "metadata": {},
     "output_type": "execute_result"
    }
   ],
   "source": [
    "detection_avg.T"
   ]
  },
  {
   "cell_type": "code",
   "execution_count": 4,
   "metadata": {},
   "outputs": [
    {
     "name": "stdout",
     "output_type": "stream",
     "text": [
      "f1: 0.8187643746530257\n",
      "prec: 0.8584138493007168\n",
      "rec: 0.7826159467531877\n"
     ]
    }
   ],
   "source": [
    "print(f\"f1: {global_f1}\")\n",
    "print(f\"prec: {global_prec}\")\n",
    "print(f\"rec: {global_rec}\")"
   ]
  },
  {
   "attachments": {},
   "cell_type": "markdown",
   "metadata": {},
   "source": [
    "### Cell-Type-PQ-Scores"
   ]
  },
  {
   "cell_type": "code",
   "execution_count": 5,
   "metadata": {},
   "outputs": [
    {
     "data": {
      "text/html": [
       "<div>\n",
       "<style scoped>\n",
       "    .dataframe tbody tr th:only-of-type {\n",
       "        vertical-align: middle;\n",
       "    }\n",
       "\n",
       "    .dataframe tbody tr th {\n",
       "        vertical-align: top;\n",
       "    }\n",
       "\n",
       "    .dataframe thead th {\n",
       "        text-align: right;\n",
       "    }\n",
       "</style>\n",
       "<table border=\"1\" class=\"dataframe\">\n",
       "  <thead>\n",
       "    <tr style=\"text-align: right;\">\n",
       "      <th></th>\n",
       "      <th>Neoplastic</th>\n",
       "      <th>Inflammatory</th>\n",
       "      <th>Connective</th>\n",
       "      <th>Dead</th>\n",
       "      <th>Epithelial</th>\n",
       "    </tr>\n",
       "  </thead>\n",
       "  <tbody>\n",
       "    <tr>\n",
       "      <th>0</th>\n",
       "      <td>0.542273</td>\n",
       "      <td>0.403763</td>\n",
       "      <td>0.369918</td>\n",
       "      <td>0.007775</td>\n",
       "      <td>0.507822</td>\n",
       "    </tr>\n",
       "  </tbody>\n",
       "</table>\n",
       "</div>"
      ],
      "text/plain": [
       "   Neoplastic  Inflammatory  Connective      Dead  Epithelial\n",
       "0    0.542273      0.403763    0.369918  0.007775    0.507822"
      ]
     },
     "execution_count": 5,
     "metadata": {},
     "output_type": "execute_result"
    }
   ],
   "source": [
    "cell_pq_avg"
   ]
  },
  {
   "attachments": {},
   "cell_type": "markdown",
   "metadata": {},
   "source": [
    "### Tissue-Type-PQ-Scores"
   ]
  },
  {
   "cell_type": "code",
   "execution_count": 6,
   "metadata": {},
   "outputs": [
    {
     "data": {
      "text/html": [
       "<div>\n",
       "<style scoped>\n",
       "    .dataframe tbody tr th:only-of-type {\n",
       "        vertical-align: middle;\n",
       "    }\n",
       "\n",
       "    .dataframe tbody tr th {\n",
       "        vertical-align: top;\n",
       "    }\n",
       "\n",
       "    .dataframe thead th {\n",
       "        text-align: right;\n",
       "    }\n",
       "</style>\n",
       "<table border=\"1\" class=\"dataframe\">\n",
       "  <thead>\n",
       "    <tr style=\"text-align: right;\">\n",
       "      <th></th>\n",
       "      <th>Dice</th>\n",
       "      <th>Jaccard</th>\n",
       "      <th>mPQ</th>\n",
       "      <th>bPQ</th>\n",
       "    </tr>\n",
       "  </thead>\n",
       "  <tbody>\n",
       "    <tr>\n",
       "      <th>adrenal_gland</th>\n",
       "      <td>0.813830</td>\n",
       "      <td>0.705797</td>\n",
       "      <td>0.475960</td>\n",
       "      <td>0.683147</td>\n",
       "    </tr>\n",
       "    <tr>\n",
       "      <th>bile-duct</th>\n",
       "      <td>0.768538</td>\n",
       "      <td>0.693955</td>\n",
       "      <td>0.434605</td>\n",
       "      <td>0.642038</td>\n",
       "    </tr>\n",
       "    <tr>\n",
       "      <th>bladder</th>\n",
       "      <td>0.754531</td>\n",
       "      <td>0.741326</td>\n",
       "      <td>0.525612</td>\n",
       "      <td>0.688671</td>\n",
       "    </tr>\n",
       "    <tr>\n",
       "      <th>breast</th>\n",
       "      <td>0.814806</td>\n",
       "      <td>0.705078</td>\n",
       "      <td>0.483402</td>\n",
       "      <td>0.653287</td>\n",
       "    </tr>\n",
       "    <tr>\n",
       "      <th>cervix</th>\n",
       "      <td>0.700083</td>\n",
       "      <td>0.723000</td>\n",
       "      <td>0.455550</td>\n",
       "      <td>0.664161</td>\n",
       "    </tr>\n",
       "    <tr>\n",
       "      <th>colon</th>\n",
       "      <td>0.679778</td>\n",
       "      <td>0.625657</td>\n",
       "      <td>0.399461</td>\n",
       "      <td>0.553335</td>\n",
       "    </tr>\n",
       "    <tr>\n",
       "      <th>esophagus</th>\n",
       "      <td>0.826642</td>\n",
       "      <td>0.719101</td>\n",
       "      <td>0.517089</td>\n",
       "      <td>0.655882</td>\n",
       "    </tr>\n",
       "    <tr>\n",
       "      <th>headneck</th>\n",
       "      <td>0.681020</td>\n",
       "      <td>0.651793</td>\n",
       "      <td>0.412501</td>\n",
       "      <td>0.609803</td>\n",
       "    </tr>\n",
       "    <tr>\n",
       "      <th>kidney</th>\n",
       "      <td>0.772801</td>\n",
       "      <td>0.719236</td>\n",
       "      <td>0.496914</td>\n",
       "      <td>0.679865</td>\n",
       "    </tr>\n",
       "    <tr>\n",
       "      <th>liver</th>\n",
       "      <td>0.845230</td>\n",
       "      <td>0.737427</td>\n",
       "      <td>0.457858</td>\n",
       "      <td>0.694340</td>\n",
       "    </tr>\n",
       "    <tr>\n",
       "      <th>lung</th>\n",
       "      <td>0.810964</td>\n",
       "      <td>0.685410</td>\n",
       "      <td>0.346894</td>\n",
       "      <td>0.615152</td>\n",
       "    </tr>\n",
       "    <tr>\n",
       "      <th>ovarian</th>\n",
       "      <td>0.832298</td>\n",
       "      <td>0.717475</td>\n",
       "      <td>0.504629</td>\n",
       "      <td>0.652088</td>\n",
       "    </tr>\n",
       "    <tr>\n",
       "      <th>pancreatic</th>\n",
       "      <td>0.825760</td>\n",
       "      <td>0.708939</td>\n",
       "      <td>0.410299</td>\n",
       "      <td>0.639588</td>\n",
       "    </tr>\n",
       "    <tr>\n",
       "      <th>prostate</th>\n",
       "      <td>0.801311</td>\n",
       "      <td>0.712055</td>\n",
       "      <td>0.499558</td>\n",
       "      <td>0.664586</td>\n",
       "    </tr>\n",
       "    <tr>\n",
       "      <th>skin</th>\n",
       "      <td>0.788622</td>\n",
       "      <td>0.674077</td>\n",
       "      <td>0.353859</td>\n",
       "      <td>0.632268</td>\n",
       "    </tr>\n",
       "    <tr>\n",
       "      <th>stomach</th>\n",
       "      <td>0.854042</td>\n",
       "      <td>0.747885</td>\n",
       "      <td>0.403002</td>\n",
       "      <td>0.679041</td>\n",
       "    </tr>\n",
       "    <tr>\n",
       "      <th>testis</th>\n",
       "      <td>0.809022</td>\n",
       "      <td>0.716407</td>\n",
       "      <td>0.493286</td>\n",
       "      <td>0.682336</td>\n",
       "    </tr>\n",
       "    <tr>\n",
       "      <th>thyroid</th>\n",
       "      <td>0.818933</td>\n",
       "      <td>0.723987</td>\n",
       "      <td>0.399306</td>\n",
       "      <td>0.693692</td>\n",
       "    </tr>\n",
       "    <tr>\n",
       "      <th>uterus</th>\n",
       "      <td>0.824564</td>\n",
       "      <td>0.705498</td>\n",
       "      <td>0.446771</td>\n",
       "      <td>0.645425</td>\n",
       "    </tr>\n",
       "  </tbody>\n",
       "</table>\n",
       "</div>"
      ],
      "text/plain": [
       "                   Dice   Jaccard       mPQ       bPQ\n",
       "adrenal_gland  0.813830  0.705797  0.475960  0.683147\n",
       "bile-duct      0.768538  0.693955  0.434605  0.642038\n",
       "bladder        0.754531  0.741326  0.525612  0.688671\n",
       "breast         0.814806  0.705078  0.483402  0.653287\n",
       "cervix         0.700083  0.723000  0.455550  0.664161\n",
       "colon          0.679778  0.625657  0.399461  0.553335\n",
       "esophagus      0.826642  0.719101  0.517089  0.655882\n",
       "headneck       0.681020  0.651793  0.412501  0.609803\n",
       "kidney         0.772801  0.719236  0.496914  0.679865\n",
       "liver          0.845230  0.737427  0.457858  0.694340\n",
       "lung           0.810964  0.685410  0.346894  0.615152\n",
       "ovarian        0.832298  0.717475  0.504629  0.652088\n",
       "pancreatic     0.825760  0.708939  0.410299  0.639588\n",
       "prostate       0.801311  0.712055  0.499558  0.664586\n",
       "skin           0.788622  0.674077  0.353859  0.632268\n",
       "stomach        0.854042  0.747885  0.403002  0.679041\n",
       "testis         0.809022  0.716407  0.493286  0.682336\n",
       "thyroid        0.818933  0.723987  0.399306  0.693692\n",
       "uterus         0.824564  0.705498  0.446771  0.645425"
      ]
     },
     "execution_count": 6,
     "metadata": {},
     "output_type": "execute_result"
    }
   ],
   "source": [
    "tissue_metrics_avg.T"
   ]
  },
  {
   "cell_type": "code",
   "execution_count": 7,
   "metadata": {},
   "outputs": [
    {
     "data": {
      "text/plain": [
       "Dice       0.790672\n",
       "Jaccard    0.706005\n",
       "mPQ        0.448240\n",
       "bPQ        0.654142\n",
       "dtype: float64"
      ]
     },
     "execution_count": 7,
     "metadata": {},
     "output_type": "execute_result"
    }
   ],
   "source": [
    "row_mean = tissue_metrics_avg.mean(axis=1)\n",
    "row_mean"
   ]
  },
  {
   "cell_type": "code",
   "execution_count": 8,
   "metadata": {},
   "outputs": [
    {
     "data": {
      "text/plain": [
       "Dice       0.052612\n",
       "Jaccard    0.030016\n",
       "mPQ        0.053745\n",
       "bPQ        0.035015\n",
       "dtype: float64"
      ]
     },
     "execution_count": 8,
     "metadata": {},
     "output_type": "execute_result"
    }
   ],
   "source": [
    "row_mean = tissue_metrics_avg.std(axis=1)\n",
    "row_mean"
   ]
  },
  {
   "cell_type": "code",
   "execution_count": null,
   "metadata": {},
   "outputs": [],
   "source": []
  }
 ],
 "metadata": {
  "kernelspec": {
   "display_name": "cellvit_env",
   "language": "python",
   "name": "python3"
  },
  "language_info": {
   "codemirror_mode": {
    "name": "ipython",
    "version": 3
   },
   "file_extension": ".py",
   "mimetype": "text/x-python",
   "name": "python",
   "nbconvert_exporter": "python",
   "pygments_lexer": "ipython3",
   "version": "3.9.7"
  },
  "orig_nbformat": 4
 },
 "nbformat": 4,
 "nbformat_minor": 2
}
